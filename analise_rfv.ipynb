{
 "cells": [
  {
   "cell_type": "markdown",
   "id": "6f2bdd3b-8f21-44df-93df-37006fb4e72f",
   "metadata": {},
   "source": [
    "# RFV\n",
    "---"
   ]
  },
  {
   "cell_type": "markdown",
   "id": "25d7e3c5-96d1-4c74-ae15-2c2b8d283958",
   "metadata": {},
   "source": [
    "**RFV** significa recência, frequência, valor e é utilizado para segmentação de clientes baseado no comportamento de compras dos clientes e agrupa eles em clusters parecidos. Utilizando esse tipo de agrupamento podemos realizar ações de marketing e CRM melhores direcionadas, ajudando assim na personalização do conteúdo e até a retenção de clientes.\n",
    "\n",
    "Para cada cliente é preciso calcular cada uma das componentes abaixo:\n",
    "\n",
    "- Recência (R): Quantidade de dias desde a última compra.\n",
    "- Frequência (F): Quantidade total de compras no período.\n",
    "- Valor (V): Total de dinheiro gasto nas compras do período.\n",
    "\n",
    "E é isso que iremos fazer abaixo."
   ]
  },
  {
   "cell_type": "markdown",
   "id": "b3101788-6965-47d4-950f-a52f1c55dc45",
   "metadata": {},
   "source": [
    "### Importando as Bibliotecas"
   ]
  },
  {
   "cell_type": "code",
   "execution_count": 172,
   "id": "0b8d50d5-a787-44e8-9eab-553389de3ff9",
   "metadata": {},
   "outputs": [],
   "source": [
    "import pandas as pd\n",
    "import numpy as np\n",
    "from datetime import datetime\n",
    "\n",
    "import warnings"
   ]
  },
  {
   "cell_type": "markdown",
   "id": "78ae63e2-024f-4ce9-be56-c83b3c591c22",
   "metadata": {},
   "source": [
    "### Carregando a base de Dados"
   ]
  },
  {
   "cell_type": "code",
   "execution_count": 175,
   "id": "48621ecf-b963-43f6-93bd-ff6c5e9944f9",
   "metadata": {},
   "outputs": [
    {
     "data": {
      "text/html": [
       "<div>\n",
       "<style scoped>\n",
       "    .dataframe tbody tr th:only-of-type {\n",
       "        vertical-align: middle;\n",
       "    }\n",
       "\n",
       "    .dataframe tbody tr th {\n",
       "        vertical-align: top;\n",
       "    }\n",
       "\n",
       "    .dataframe thead th {\n",
       "        text-align: right;\n",
       "    }\n",
       "</style>\n",
       "<table border=\"1\" class=\"dataframe\">\n",
       "  <thead>\n",
       "    <tr style=\"text-align: right;\">\n",
       "      <th></th>\n",
       "      <th>ID_cliente</th>\n",
       "      <th>CodigoCompra</th>\n",
       "      <th>DiaCompra</th>\n",
       "      <th>ValorTotal</th>\n",
       "    </tr>\n",
       "  </thead>\n",
       "  <tbody>\n",
       "    <tr>\n",
       "      <th>0</th>\n",
       "      <td>12747</td>\n",
       "      <td>537215</td>\n",
       "      <td>2020-12-05</td>\n",
       "      <td>358.56</td>\n",
       "    </tr>\n",
       "    <tr>\n",
       "      <th>1</th>\n",
       "      <td>12747</td>\n",
       "      <td>538537</td>\n",
       "      <td>2020-12-13</td>\n",
       "      <td>347.71</td>\n",
       "    </tr>\n",
       "    <tr>\n",
       "      <th>2</th>\n",
       "      <td>12747</td>\n",
       "      <td>541677</td>\n",
       "      <td>2021-01-20</td>\n",
       "      <td>303.04</td>\n",
       "    </tr>\n",
       "    <tr>\n",
       "      <th>3</th>\n",
       "      <td>12747</td>\n",
       "      <td>545321</td>\n",
       "      <td>2021-03-01</td>\n",
       "      <td>310.78</td>\n",
       "    </tr>\n",
       "    <tr>\n",
       "      <th>4</th>\n",
       "      <td>12747</td>\n",
       "      <td>551992</td>\n",
       "      <td>2021-05-05</td>\n",
       "      <td>442.96</td>\n",
       "    </tr>\n",
       "  </tbody>\n",
       "</table>\n",
       "</div>"
      ],
      "text/plain": [
       "   ID_cliente  CodigoCompra  DiaCompra  ValorTotal\n",
       "0       12747        537215 2020-12-05      358.56\n",
       "1       12747        538537 2020-12-13      347.71\n",
       "2       12747        541677 2021-01-20      303.04\n",
       "3       12747        545321 2021-03-01      310.78\n",
       "4       12747        551992 2021-05-05      442.96"
      ]
     },
     "execution_count": 175,
     "metadata": {},
     "output_type": "execute_result"
    }
   ],
   "source": [
    "# Lendo a base de dados\n",
    "df = pd.read_csv('dados_input.csv', parse_dates=['DiaCompra'])\n",
    "\n",
    "# Visualizando as primeiras linhas\n",
    "df.head()"
   ]
  },
  {
   "cell_type": "markdown",
   "id": "d7553601-bbca-40e3-926e-b519fe33c658",
   "metadata": {},
   "source": [
    "### Entendimento dos Dados"
   ]
  },
  {
   "cell_type": "code",
   "execution_count": 178,
   "id": "cfeb837c-0ff3-4215-ac73-1597bdc89f4c",
   "metadata": {},
   "outputs": [
    {
     "data": {
      "text/plain": [
       "(16127, 4)"
      ]
     },
     "execution_count": 178,
     "metadata": {},
     "output_type": "execute_result"
    }
   ],
   "source": [
    "df.shape"
   ]
  },
  {
   "cell_type": "code",
   "execution_count": 180,
   "id": "2982993b-cf39-456a-80b9-e53647454ebb",
   "metadata": {},
   "outputs": [
    {
     "name": "stdout",
     "output_type": "stream",
     "text": [
      "<class 'pandas.core.frame.DataFrame'>\n",
      "RangeIndex: 16127 entries, 0 to 16126\n",
      "Data columns (total 4 columns):\n",
      " #   Column        Non-Null Count  Dtype         \n",
      "---  ------        --------------  -----         \n",
      " 0   ID_cliente    16127 non-null  int64         \n",
      " 1   CodigoCompra  16127 non-null  int64         \n",
      " 2   DiaCompra     16127 non-null  datetime64[ns]\n",
      " 3   ValorTotal    16127 non-null  float64       \n",
      "dtypes: datetime64[ns](1), float64(1), int64(2)\n",
      "memory usage: 504.1 KB\n"
     ]
    }
   ],
   "source": [
    "df.info()"
   ]
  },
  {
   "cell_type": "code",
   "execution_count": 182,
   "id": "7670f141-3c0c-43bc-bd45-d1978d7429f7",
   "metadata": {},
   "outputs": [
    {
     "name": "stdout",
     "output_type": "stream",
     "text": [
      "Há 0 linhas dupliicadas em nossa base de dados\n"
     ]
    }
   ],
   "source": [
    "duplicados = df.duplicated().sum()\n",
    "print(f'Há {duplicados} linhas dupliicadas em nossa base de dados')"
   ]
  },
  {
   "cell_type": "markdown",
   "id": "a5133306-0ed6-402a-962b-807947f5c3d6",
   "metadata": {},
   "source": [
    "### Período Analisado"
   ]
  },
  {
   "cell_type": "code",
   "execution_count": 185,
   "id": "61d14361-cdee-4bc1-bde9-e1884dc22e64",
   "metadata": {},
   "outputs": [
    {
     "data": {
      "text/plain": [
       "Timestamp('2020-12-01 00:00:00')"
      ]
     },
     "execution_count": 185,
     "metadata": {},
     "output_type": "execute_result"
    }
   ],
   "source": [
    "# Visualizando o início do período analisado\n",
    "df['DiaCompra'].min()"
   ]
  },
  {
   "cell_type": "code",
   "execution_count": 187,
   "id": "77cfdc95-f376-454b-bbfd-fdc09752bc3a",
   "metadata": {},
   "outputs": [
    {
     "data": {
      "text/plain": [
       "Timestamp('2021-12-09 00:00:00')"
      ]
     },
     "execution_count": 187,
     "metadata": {},
     "output_type": "execute_result"
    }
   ],
   "source": [
    "# Visualizando o final do período analisado\n",
    "df['DiaCompra'].max()"
   ]
  },
  {
   "cell_type": "code",
   "execution_count": 189,
   "id": "695f6222-5b35-4bff-82f3-630fb20682c3",
   "metadata": {},
   "outputs": [
    {
     "name": "stdout",
     "output_type": "stream",
     "text": [
      "2021-12-09 00:00:00\n"
     ]
    }
   ],
   "source": [
    "dia_atual= datetime(2021, 12, 9)\n",
    "print(dia_atual)"
   ]
  },
  {
   "cell_type": "markdown",
   "id": "3155f537-92c1-4cb2-82b4-7cdce970b40d",
   "metadata": {},
   "source": [
    "Após a análise inicial, observamos que nossa base de dados possui **16.127 observações**, com **3 variáveis numéricas** e **1 variável no formato datetime**. Não há **dados faltantes** nem **duplicados**, o que facilita nossa análise. O período analisado vai de 01/12/2020 a 09/12/2021."
   ]
  },
  {
   "cell_type": "markdown",
   "id": "ff0615ca-58a3-4063-ac86-561bc862e011",
   "metadata": {},
   "source": [
    "## Recência (R)\n",
    "\n",
    "**Quantos dias faz que o cliente fez a sua última compra?**"
   ]
  },
  {
   "cell_type": "code",
   "execution_count": 193,
   "id": "45d4f549-36c4-48f8-be2a-6eddab4a94df",
   "metadata": {},
   "outputs": [
    {
     "data": {
      "text/html": [
       "<div>\n",
       "<style scoped>\n",
       "    .dataframe tbody tr th:only-of-type {\n",
       "        vertical-align: middle;\n",
       "    }\n",
       "\n",
       "    .dataframe tbody tr th {\n",
       "        vertical-align: top;\n",
       "    }\n",
       "\n",
       "    .dataframe thead th {\n",
       "        text-align: right;\n",
       "    }\n",
       "</style>\n",
       "<table border=\"1\" class=\"dataframe\">\n",
       "  <thead>\n",
       "    <tr style=\"text-align: right;\">\n",
       "      <th></th>\n",
       "      <th>ID_cliente</th>\n",
       "      <th>DiaUltimaCompra</th>\n",
       "    </tr>\n",
       "  </thead>\n",
       "  <tbody>\n",
       "    <tr>\n",
       "      <th>0</th>\n",
       "      <td>12747</td>\n",
       "      <td>2021-12-07</td>\n",
       "    </tr>\n",
       "    <tr>\n",
       "      <th>1</th>\n",
       "      <td>12748</td>\n",
       "      <td>2021-12-09</td>\n",
       "    </tr>\n",
       "    <tr>\n",
       "      <th>2</th>\n",
       "      <td>12749</td>\n",
       "      <td>2021-12-06</td>\n",
       "    </tr>\n",
       "    <tr>\n",
       "      <th>3</th>\n",
       "      <td>12820</td>\n",
       "      <td>2021-12-06</td>\n",
       "    </tr>\n",
       "    <tr>\n",
       "      <th>4</th>\n",
       "      <td>12821</td>\n",
       "      <td>2021-05-09</td>\n",
       "    </tr>\n",
       "  </tbody>\n",
       "</table>\n",
       "</div>"
      ],
      "text/plain": [
       "   ID_cliente DiaUltimaCompra\n",
       "0       12747      2021-12-07\n",
       "1       12748      2021-12-09\n",
       "2       12749      2021-12-06\n",
       "3       12820      2021-12-06\n",
       "4       12821      2021-05-09"
      ]
     },
     "execution_count": 193,
     "metadata": {},
     "output_type": "execute_result"
    }
   ],
   "source": [
    "df_recencia = df.groupby(by='ID_cliente', as_index=False)['DiaCompra'].max()\n",
    "df_recencia.columns = ['ID_cliente', 'DiaUltimaCompra']\n",
    "df_recencia.head()"
   ]
  },
  {
   "cell_type": "code",
   "execution_count": 195,
   "id": "ed25c87c-7229-45b5-bc5d-70e4a74d6a05",
   "metadata": {},
   "outputs": [],
   "source": [
    "df_recencia['Recencia'] = df_recencia['DiaUltimaCompra'].apply(\n",
    "    lambda x: (dia_atual - x).days)"
   ]
  },
  {
   "cell_type": "code",
   "execution_count": 197,
   "id": "0b0b0d8b-c881-4b1d-b817-cb61f89a1e5a",
   "metadata": {},
   "outputs": [
    {
     "data": {
      "text/html": [
       "<div>\n",
       "<style scoped>\n",
       "    .dataframe tbody tr th:only-of-type {\n",
       "        vertical-align: middle;\n",
       "    }\n",
       "\n",
       "    .dataframe tbody tr th {\n",
       "        vertical-align: top;\n",
       "    }\n",
       "\n",
       "    .dataframe thead th {\n",
       "        text-align: right;\n",
       "    }\n",
       "</style>\n",
       "<table border=\"1\" class=\"dataframe\">\n",
       "  <thead>\n",
       "    <tr style=\"text-align: right;\">\n",
       "      <th></th>\n",
       "      <th>ID_cliente</th>\n",
       "      <th>DiaUltimaCompra</th>\n",
       "      <th>Recencia</th>\n",
       "    </tr>\n",
       "  </thead>\n",
       "  <tbody>\n",
       "    <tr>\n",
       "      <th>0</th>\n",
       "      <td>12747</td>\n",
       "      <td>2021-12-07</td>\n",
       "      <td>2</td>\n",
       "    </tr>\n",
       "    <tr>\n",
       "      <th>1</th>\n",
       "      <td>12748</td>\n",
       "      <td>2021-12-09</td>\n",
       "      <td>0</td>\n",
       "    </tr>\n",
       "    <tr>\n",
       "      <th>2</th>\n",
       "      <td>12749</td>\n",
       "      <td>2021-12-06</td>\n",
       "      <td>3</td>\n",
       "    </tr>\n",
       "    <tr>\n",
       "      <th>3</th>\n",
       "      <td>12820</td>\n",
       "      <td>2021-12-06</td>\n",
       "      <td>3</td>\n",
       "    </tr>\n",
       "    <tr>\n",
       "      <th>4</th>\n",
       "      <td>12821</td>\n",
       "      <td>2021-05-09</td>\n",
       "      <td>214</td>\n",
       "    </tr>\n",
       "  </tbody>\n",
       "</table>\n",
       "</div>"
      ],
      "text/plain": [
       "   ID_cliente DiaUltimaCompra  Recencia\n",
       "0       12747      2021-12-07         2\n",
       "1       12748      2021-12-09         0\n",
       "2       12749      2021-12-06         3\n",
       "3       12820      2021-12-06         3\n",
       "4       12821      2021-05-09       214"
      ]
     },
     "execution_count": 197,
     "metadata": {},
     "output_type": "execute_result"
    }
   ],
   "source": [
    "df_recencia.head()"
   ]
  },
  {
   "cell_type": "code",
   "execution_count": 199,
   "id": "ad47751e-3658-4f85-8148-d73555f13ee1",
   "metadata": {},
   "outputs": [
    {
     "data": {
      "text/html": [
       "<div>\n",
       "<style scoped>\n",
       "    .dataframe tbody tr th:only-of-type {\n",
       "        vertical-align: middle;\n",
       "    }\n",
       "\n",
       "    .dataframe tbody tr th {\n",
       "        vertical-align: top;\n",
       "    }\n",
       "\n",
       "    .dataframe thead th {\n",
       "        text-align: right;\n",
       "    }\n",
       "</style>\n",
       "<table border=\"1\" class=\"dataframe\">\n",
       "  <thead>\n",
       "    <tr style=\"text-align: right;\">\n",
       "      <th></th>\n",
       "      <th>ID_cliente</th>\n",
       "      <th>Recencia</th>\n",
       "    </tr>\n",
       "  </thead>\n",
       "  <tbody>\n",
       "    <tr>\n",
       "      <th>0</th>\n",
       "      <td>12747</td>\n",
       "      <td>2</td>\n",
       "    </tr>\n",
       "    <tr>\n",
       "      <th>1</th>\n",
       "      <td>12748</td>\n",
       "      <td>0</td>\n",
       "    </tr>\n",
       "    <tr>\n",
       "      <th>2</th>\n",
       "      <td>12749</td>\n",
       "      <td>3</td>\n",
       "    </tr>\n",
       "    <tr>\n",
       "      <th>3</th>\n",
       "      <td>12820</td>\n",
       "      <td>3</td>\n",
       "    </tr>\n",
       "    <tr>\n",
       "      <th>4</th>\n",
       "      <td>12821</td>\n",
       "      <td>214</td>\n",
       "    </tr>\n",
       "  </tbody>\n",
       "</table>\n",
       "</div>"
      ],
      "text/plain": [
       "   ID_cliente  Recencia\n",
       "0       12747         2\n",
       "1       12748         0\n",
       "2       12749         3\n",
       "3       12820         3\n",
       "4       12821       214"
      ]
     },
     "execution_count": 199,
     "metadata": {},
     "output_type": "execute_result"
    }
   ],
   "source": [
    "df_recencia.drop('DiaUltimaCompra', axis=1, inplace=True)\n",
    "df_recencia.head()"
   ]
  },
  {
   "cell_type": "markdown",
   "id": "dbfa8a51-1dca-441a-8cf4-501455a5a7b1",
   "metadata": {},
   "source": [
    "## Frequência (F)\n",
    "\n",
    "**Quantas vezes o cliente fez uma compra com a gente?**"
   ]
  },
  {
   "cell_type": "code",
   "execution_count": 202,
   "id": "e6d8bc04-e893-482f-9c5c-fae3246efa3f",
   "metadata": {},
   "outputs": [
    {
     "data": {
      "text/html": [
       "<div>\n",
       "<style scoped>\n",
       "    .dataframe tbody tr th:only-of-type {\n",
       "        vertical-align: middle;\n",
       "    }\n",
       "\n",
       "    .dataframe tbody tr th {\n",
       "        vertical-align: top;\n",
       "    }\n",
       "\n",
       "    .dataframe thead th {\n",
       "        text-align: right;\n",
       "    }\n",
       "</style>\n",
       "<table border=\"1\" class=\"dataframe\">\n",
       "  <thead>\n",
       "    <tr style=\"text-align: right;\">\n",
       "      <th></th>\n",
       "      <th>ID_cliente</th>\n",
       "      <th>Frequencia</th>\n",
       "    </tr>\n",
       "  </thead>\n",
       "  <tbody>\n",
       "    <tr>\n",
       "      <th>0</th>\n",
       "      <td>12747</td>\n",
       "      <td>11</td>\n",
       "    </tr>\n",
       "    <tr>\n",
       "      <th>1</th>\n",
       "      <td>12748</td>\n",
       "      <td>178</td>\n",
       "    </tr>\n",
       "    <tr>\n",
       "      <th>2</th>\n",
       "      <td>12749</td>\n",
       "      <td>5</td>\n",
       "    </tr>\n",
       "    <tr>\n",
       "      <th>3</th>\n",
       "      <td>12820</td>\n",
       "      <td>4</td>\n",
       "    </tr>\n",
       "    <tr>\n",
       "      <th>4</th>\n",
       "      <td>12821</td>\n",
       "      <td>1</td>\n",
       "    </tr>\n",
       "  </tbody>\n",
       "</table>\n",
       "</div>"
      ],
      "text/plain": [
       "   ID_cliente  Frequencia\n",
       "0       12747          11\n",
       "1       12748         178\n",
       "2       12749           5\n",
       "3       12820           4\n",
       "4       12821           1"
      ]
     },
     "execution_count": 202,
     "metadata": {},
     "output_type": "execute_result"
    }
   ],
   "source": [
    "df_frequencia = df[['ID_cliente', 'CodigoCompra']].groupby('ID_cliente').count().reset_index()\n",
    "df_frequencia.columns = ['ID_cliente', 'Frequencia']\n",
    "df_frequencia.head()"
   ]
  },
  {
   "cell_type": "markdown",
   "id": "477fbea7-1ce8-4abb-979c-fb05f6533911",
   "metadata": {},
   "source": [
    "## Valor (V)\n",
    "\n",
    "**Valor gasto por cada cliente durante o período analisado**"
   ]
  },
  {
   "cell_type": "code",
   "execution_count": 221,
   "id": "2c655ea1-7f40-42cb-a5e2-46d3dda0ac12",
   "metadata": {},
   "outputs": [
    {
     "data": {
      "text/html": [
       "<div>\n",
       "<style scoped>\n",
       "    .dataframe tbody tr th:only-of-type {\n",
       "        vertical-align: middle;\n",
       "    }\n",
       "\n",
       "    .dataframe tbody tr th {\n",
       "        vertical-align: top;\n",
       "    }\n",
       "\n",
       "    .dataframe thead th {\n",
       "        text-align: right;\n",
       "    }\n",
       "</style>\n",
       "<table border=\"1\" class=\"dataframe\">\n",
       "  <thead>\n",
       "    <tr style=\"text-align: right;\">\n",
       "      <th></th>\n",
       "      <th>ID_cliente</th>\n",
       "      <th>Valor</th>\n",
       "    </tr>\n",
       "  </thead>\n",
       "  <tbody>\n",
       "    <tr>\n",
       "      <th>0</th>\n",
       "      <td>12747</td>\n",
       "      <td>4196.01</td>\n",
       "    </tr>\n",
       "    <tr>\n",
       "      <th>1</th>\n",
       "      <td>12748</td>\n",
       "      <td>31533.04</td>\n",
       "    </tr>\n",
       "    <tr>\n",
       "      <th>2</th>\n",
       "      <td>12749</td>\n",
       "      <td>4090.88</td>\n",
       "    </tr>\n",
       "    <tr>\n",
       "      <th>3</th>\n",
       "      <td>12820</td>\n",
       "      <td>942.34</td>\n",
       "    </tr>\n",
       "    <tr>\n",
       "      <th>4</th>\n",
       "      <td>12821</td>\n",
       "      <td>92.72</td>\n",
       "    </tr>\n",
       "  </tbody>\n",
       "</table>\n",
       "</div>"
      ],
      "text/plain": [
       "   ID_cliente     Valor\n",
       "0       12747   4196.01\n",
       "1       12748  31533.04\n",
       "2       12749   4090.88\n",
       "3       12820    942.34\n",
       "4       12821     92.72"
      ]
     },
     "execution_count": 221,
     "metadata": {},
     "output_type": "execute_result"
    }
   ],
   "source": [
    "df_valor = df[['ID_cliente', 'ValorTotal']].groupby('ID_cliente').sum().reset_index()\n",
    "df_valor.columns = ['ID_cliente', 'Valor']\n",
    "df_valor.head()"
   ]
  },
  {
   "cell_type": "markdown",
   "id": "b6c0a9b8-f567-4fbd-b56b-c7363431119a",
   "metadata": {},
   "source": [
    "## Ciando a tabela RFV"
   ]
  },
  {
   "cell_type": "code",
   "execution_count": 223,
   "id": "3b803e90-c86f-4df1-99bb-f6a9f7b43a56",
   "metadata": {},
   "outputs": [
    {
     "data": {
      "text/html": [
       "<div>\n",
       "<style scoped>\n",
       "    .dataframe tbody tr th:only-of-type {\n",
       "        vertical-align: middle;\n",
       "    }\n",
       "\n",
       "    .dataframe tbody tr th {\n",
       "        vertical-align: top;\n",
       "    }\n",
       "\n",
       "    .dataframe thead th {\n",
       "        text-align: right;\n",
       "    }\n",
       "</style>\n",
       "<table border=\"1\" class=\"dataframe\">\n",
       "  <thead>\n",
       "    <tr style=\"text-align: right;\">\n",
       "      <th></th>\n",
       "      <th>ID_cliente</th>\n",
       "      <th>Recencia</th>\n",
       "      <th>Frequencia</th>\n",
       "    </tr>\n",
       "  </thead>\n",
       "  <tbody>\n",
       "    <tr>\n",
       "      <th>0</th>\n",
       "      <td>12747</td>\n",
       "      <td>2</td>\n",
       "      <td>11</td>\n",
       "    </tr>\n",
       "    <tr>\n",
       "      <th>1</th>\n",
       "      <td>12748</td>\n",
       "      <td>0</td>\n",
       "      <td>178</td>\n",
       "    </tr>\n",
       "    <tr>\n",
       "      <th>2</th>\n",
       "      <td>12749</td>\n",
       "      <td>3</td>\n",
       "      <td>5</td>\n",
       "    </tr>\n",
       "    <tr>\n",
       "      <th>3</th>\n",
       "      <td>12820</td>\n",
       "      <td>3</td>\n",
       "      <td>4</td>\n",
       "    </tr>\n",
       "    <tr>\n",
       "      <th>4</th>\n",
       "      <td>12821</td>\n",
       "      <td>214</td>\n",
       "      <td>1</td>\n",
       "    </tr>\n",
       "  </tbody>\n",
       "</table>\n",
       "</div>"
      ],
      "text/plain": [
       "   ID_cliente  Recencia  Frequencia\n",
       "0       12747         2          11\n",
       "1       12748         0         178\n",
       "2       12749         3           5\n",
       "3       12820         3           4\n",
       "4       12821       214           1"
      ]
     },
     "execution_count": 223,
     "metadata": {},
     "output_type": "execute_result"
    }
   ],
   "source": [
    "df_RFV = df_recencia.merge(df_frequencia, on ='ID_cliente')\n",
    "df_RFV.head()"
   ]
  },
  {
   "cell_type": "code",
   "execution_count": 225,
   "id": "6e773ed0-98c6-4638-a786-44687eb8e1fe",
   "metadata": {},
   "outputs": [
    {
     "data": {
      "text/html": [
       "<div>\n",
       "<style scoped>\n",
       "    .dataframe tbody tr th:only-of-type {\n",
       "        vertical-align: middle;\n",
       "    }\n",
       "\n",
       "    .dataframe tbody tr th {\n",
       "        vertical-align: top;\n",
       "    }\n",
       "\n",
       "    .dataframe thead th {\n",
       "        text-align: right;\n",
       "    }\n",
       "</style>\n",
       "<table border=\"1\" class=\"dataframe\">\n",
       "  <thead>\n",
       "    <tr style=\"text-align: right;\">\n",
       "      <th></th>\n",
       "      <th>Recencia</th>\n",
       "      <th>Frequencia</th>\n",
       "      <th>Valor</th>\n",
       "    </tr>\n",
       "    <tr>\n",
       "      <th>ID_cliente</th>\n",
       "      <th></th>\n",
       "      <th></th>\n",
       "      <th></th>\n",
       "    </tr>\n",
       "  </thead>\n",
       "  <tbody>\n",
       "    <tr>\n",
       "      <th>12747</th>\n",
       "      <td>2</td>\n",
       "      <td>11</td>\n",
       "      <td>4196.01</td>\n",
       "    </tr>\n",
       "    <tr>\n",
       "      <th>12748</th>\n",
       "      <td>0</td>\n",
       "      <td>178</td>\n",
       "      <td>31533.04</td>\n",
       "    </tr>\n",
       "    <tr>\n",
       "      <th>12749</th>\n",
       "      <td>3</td>\n",
       "      <td>5</td>\n",
       "      <td>4090.88</td>\n",
       "    </tr>\n",
       "    <tr>\n",
       "      <th>12820</th>\n",
       "      <td>3</td>\n",
       "      <td>4</td>\n",
       "      <td>942.34</td>\n",
       "    </tr>\n",
       "    <tr>\n",
       "      <th>12821</th>\n",
       "      <td>214</td>\n",
       "      <td>1</td>\n",
       "      <td>92.72</td>\n",
       "    </tr>\n",
       "  </tbody>\n",
       "</table>\n",
       "</div>"
      ],
      "text/plain": [
       "            Recencia  Frequencia     Valor\n",
       "ID_cliente                                \n",
       "12747              2          11   4196.01\n",
       "12748              0         178  31533.04\n",
       "12749              3           5   4090.88\n",
       "12820              3           4    942.34\n",
       "12821            214           1     92.72"
      ]
     },
     "execution_count": 225,
     "metadata": {},
     "output_type": "execute_result"
    }
   ],
   "source": [
    "df_RFV = df_RFV.merge(df_valor, on ='ID_cliente')\n",
    "df_RFV.set_index('ID_cliente', inplace=True)\n",
    "df_RFV.head()"
   ]
  },
  {
   "cell_type": "markdown",
   "id": "11cfee94-f03d-470a-8acd-6d7a78007c0d",
   "metadata": {},
   "source": [
    "## Segmentação de clientes utilizando o RFV\n",
    "\n",
    "Um jeito de segmentar os clientes é criando quartis para cada componente do RFV, sendo que o melhor quartil é chamado de 'A', o segundo melhor quartil de 'B', o terceiro melhor de 'C' e o pior de 'D'. O melhor e o pior depende da componente. Po exemplo, quanto menor a recência melhor é o cliente (pois ele comprou com a gente tem pouco tempo) logo o menor quartil seria classificado como 'A', já pra componente frêquencia a lógica se inverte, ou seja, quanto maior a frêquencia do cliente comprar com a gente, melhor ele/a é, logo, o maior quartil recebe a letra 'A'.\n",
    "\n",
    "Se a gente tiver interessado em mais ou menos classes, basta a gente aumentar ou diminuir o número de quantils pra cada componente.\n"
   ]
  },
  {
   "cell_type": "markdown",
   "id": "4a334ad9-ea5a-40df-b6c0-b8140fc07e7d",
   "metadata": {},
   "source": [
    "### Quartis para o RFV"
   ]
  },
  {
   "cell_type": "code",
   "execution_count": 229,
   "id": "8d16117c-bef0-42ff-884a-e0eecae1fdf0",
   "metadata": {},
   "outputs": [
    {
     "data": {
      "text/html": [
       "<div>\n",
       "<style scoped>\n",
       "    .dataframe tbody tr th:only-of-type {\n",
       "        vertical-align: middle;\n",
       "    }\n",
       "\n",
       "    .dataframe tbody tr th {\n",
       "        vertical-align: top;\n",
       "    }\n",
       "\n",
       "    .dataframe thead th {\n",
       "        text-align: right;\n",
       "    }\n",
       "</style>\n",
       "<table border=\"1\" class=\"dataframe\">\n",
       "  <thead>\n",
       "    <tr style=\"text-align: right;\">\n",
       "      <th></th>\n",
       "      <th>Recencia</th>\n",
       "      <th>Frequencia</th>\n",
       "      <th>Valor</th>\n",
       "    </tr>\n",
       "  </thead>\n",
       "  <tbody>\n",
       "    <tr>\n",
       "      <th>0.25</th>\n",
       "      <td>17.0</td>\n",
       "      <td>1.0</td>\n",
       "      <td>299.705</td>\n",
       "    </tr>\n",
       "    <tr>\n",
       "      <th>0.50</th>\n",
       "      <td>50.0</td>\n",
       "      <td>2.0</td>\n",
       "      <td>643.555</td>\n",
       "    </tr>\n",
       "    <tr>\n",
       "      <th>0.75</th>\n",
       "      <td>143.0</td>\n",
       "      <td>5.0</td>\n",
       "      <td>1533.600</td>\n",
       "    </tr>\n",
       "  </tbody>\n",
       "</table>\n",
       "</div>"
      ],
      "text/plain": [
       "      Recencia  Frequencia     Valor\n",
       "0.25      17.0         1.0   299.705\n",
       "0.50      50.0         2.0   643.555\n",
       "0.75     143.0         5.0  1533.600"
      ]
     },
     "execution_count": 229,
     "metadata": {},
     "output_type": "execute_result"
    }
   ],
   "source": [
    "quartis = df_RFV.quantile(q=[0.25, 0.5, 0.75])\n",
    "quartis"
   ]
  },
  {
   "cell_type": "code",
   "execution_count": 231,
   "id": "880a3ae0-5dda-43ef-a31d-aee200da1fcc",
   "metadata": {},
   "outputs": [
    {
     "data": {
      "text/plain": [
       "{'Recencia': {0.25: 17.0, 0.5: 50.0, 0.75: 143.0},\n",
       " 'Frequencia': {0.25: 1.0, 0.5: 2.0, 0.75: 5.0},\n",
       " 'Valor': {0.25: 299.70500000000004, 0.5: 643.555, 0.75: 1533.6}}"
      ]
     },
     "execution_count": 231,
     "metadata": {},
     "output_type": "execute_result"
    }
   ],
   "source": [
    "quartis.to_dict()"
   ]
  },
  {
   "cell_type": "markdown",
   "id": "9ef88461-5166-4911-8c20-e4580e534c6c",
   "metadata": {},
   "source": [
    "## Criando os seguimentos"
   ]
  },
  {
   "cell_type": "code",
   "execution_count": 234,
   "id": "a5f4940e-7a9c-4463-ab43-147223c3aa15",
   "metadata": {},
   "outputs": [],
   "source": [
    "def recencia_class(x, r, q_dict):\n",
    "    \"\"\"Classifica como melhor o menor quartil \n",
    "       x = valor da linha,\n",
    "       r = recencia,\n",
    "       q_dict = quartil dicionario   \n",
    "    \"\"\"\n",
    "    if x <= q_dict[r][0.25]:\n",
    "        return 'A'\n",
    "    elif x <= q_dict[r][0.50]:\n",
    "        return 'B'\n",
    "    elif x <= q_dict[r][0.75]:\n",
    "        return 'C'\n",
    "    else:\n",
    "        return 'D'\n",
    "\n",
    "\n",
    "def freq_val_class(x, fv, q_dict):\n",
    "    \"\"\"Classifica como melhor o maior quartil \n",
    "       x = valor da linha,\n",
    "       fv = frequencia ou valor,\n",
    "       q_dict = quartil dicionario   \n",
    "    \"\"\"\n",
    "    if x <= q_dict[fv][0.25]:\n",
    "        return 'D'\n",
    "    elif x <= q_dict[fv][0.50]:\n",
    "        return 'C'\n",
    "    elif x <= q_dict[fv][0.75]:\n",
    "        return 'B'\n",
    "    else:\n",
    "        return 'A'"
   ]
  },
  {
   "cell_type": "code",
   "execution_count": 236,
   "id": "aba69dae-cdbb-4d1c-8b59-874bdb2958df",
   "metadata": {},
   "outputs": [],
   "source": [
    "df_RFV['R_quartil'] = df_RFV['Recencia'].apply(recencia_class,\n",
    "                                                args=('Recencia', quartis))\n",
    "df_RFV['F_quartil'] = df_RFV['Frequencia'].apply(freq_val_class,\n",
    "                                                  args=('Frequencia', quartis))\n",
    "df_RFV['V_quartil'] = df_RFV['Valor'].apply(freq_val_class,\n",
    "                                             args=('Valor', quartis))"
   ]
  },
  {
   "cell_type": "code",
   "execution_count": 237,
   "id": "03b673e9-9e99-4092-8310-e5faa787521a",
   "metadata": {},
   "outputs": [
    {
     "data": {
      "text/html": [
       "<div>\n",
       "<style scoped>\n",
       "    .dataframe tbody tr th:only-of-type {\n",
       "        vertical-align: middle;\n",
       "    }\n",
       "\n",
       "    .dataframe tbody tr th {\n",
       "        vertical-align: top;\n",
       "    }\n",
       "\n",
       "    .dataframe thead th {\n",
       "        text-align: right;\n",
       "    }\n",
       "</style>\n",
       "<table border=\"1\" class=\"dataframe\">\n",
       "  <thead>\n",
       "    <tr style=\"text-align: right;\">\n",
       "      <th></th>\n",
       "      <th>Recencia</th>\n",
       "      <th>Frequencia</th>\n",
       "      <th>Valor</th>\n",
       "      <th>R_quartil</th>\n",
       "      <th>F_quartil</th>\n",
       "      <th>V_quartil</th>\n",
       "    </tr>\n",
       "    <tr>\n",
       "      <th>ID_cliente</th>\n",
       "      <th></th>\n",
       "      <th></th>\n",
       "      <th></th>\n",
       "      <th></th>\n",
       "      <th></th>\n",
       "      <th></th>\n",
       "    </tr>\n",
       "  </thead>\n",
       "  <tbody>\n",
       "    <tr>\n",
       "      <th>12747</th>\n",
       "      <td>2</td>\n",
       "      <td>11</td>\n",
       "      <td>4196.01</td>\n",
       "      <td>A</td>\n",
       "      <td>A</td>\n",
       "      <td>A</td>\n",
       "    </tr>\n",
       "    <tr>\n",
       "      <th>12748</th>\n",
       "      <td>0</td>\n",
       "      <td>178</td>\n",
       "      <td>31533.04</td>\n",
       "      <td>A</td>\n",
       "      <td>A</td>\n",
       "      <td>A</td>\n",
       "    </tr>\n",
       "    <tr>\n",
       "      <th>12749</th>\n",
       "      <td>3</td>\n",
       "      <td>5</td>\n",
       "      <td>4090.88</td>\n",
       "      <td>A</td>\n",
       "      <td>B</td>\n",
       "      <td>A</td>\n",
       "    </tr>\n",
       "    <tr>\n",
       "      <th>12820</th>\n",
       "      <td>3</td>\n",
       "      <td>4</td>\n",
       "      <td>942.34</td>\n",
       "      <td>A</td>\n",
       "      <td>B</td>\n",
       "      <td>B</td>\n",
       "    </tr>\n",
       "    <tr>\n",
       "      <th>12821</th>\n",
       "      <td>214</td>\n",
       "      <td>1</td>\n",
       "      <td>92.72</td>\n",
       "      <td>D</td>\n",
       "      <td>D</td>\n",
       "      <td>D</td>\n",
       "    </tr>\n",
       "  </tbody>\n",
       "</table>\n",
       "</div>"
      ],
      "text/plain": [
       "            Recencia  Frequencia     Valor R_quartil F_quartil V_quartil\n",
       "ID_cliente                                                              \n",
       "12747              2          11   4196.01         A         A         A\n",
       "12748              0         178  31533.04         A         A         A\n",
       "12749              3           5   4090.88         A         B         A\n",
       "12820              3           4    942.34         A         B         B\n",
       "12821            214           1     92.72         D         D         D"
      ]
     },
     "execution_count": 237,
     "metadata": {},
     "output_type": "execute_result"
    }
   ],
   "source": [
    "df_RFV.head()"
   ]
  },
  {
   "cell_type": "code",
   "execution_count": 240,
   "id": "074681fc-72e5-4238-bb9c-352278884533",
   "metadata": {},
   "outputs": [
    {
     "data": {
      "text/html": [
       "<div>\n",
       "<style scoped>\n",
       "    .dataframe tbody tr th:only-of-type {\n",
       "        vertical-align: middle;\n",
       "    }\n",
       "\n",
       "    .dataframe tbody tr th {\n",
       "        vertical-align: top;\n",
       "    }\n",
       "\n",
       "    .dataframe thead th {\n",
       "        text-align: right;\n",
       "    }\n",
       "</style>\n",
       "<table border=\"1\" class=\"dataframe\">\n",
       "  <thead>\n",
       "    <tr style=\"text-align: right;\">\n",
       "      <th></th>\n",
       "      <th>Recencia</th>\n",
       "      <th>Frequencia</th>\n",
       "      <th>Valor</th>\n",
       "      <th>R_quartil</th>\n",
       "      <th>F_quartil</th>\n",
       "      <th>V_quartil</th>\n",
       "      <th>RFV_Score</th>\n",
       "    </tr>\n",
       "    <tr>\n",
       "      <th>ID_cliente</th>\n",
       "      <th></th>\n",
       "      <th></th>\n",
       "      <th></th>\n",
       "      <th></th>\n",
       "      <th></th>\n",
       "      <th></th>\n",
       "      <th></th>\n",
       "    </tr>\n",
       "  </thead>\n",
       "  <tbody>\n",
       "    <tr>\n",
       "      <th>12747</th>\n",
       "      <td>2</td>\n",
       "      <td>11</td>\n",
       "      <td>4196.01</td>\n",
       "      <td>A</td>\n",
       "      <td>A</td>\n",
       "      <td>A</td>\n",
       "      <td>AAA</td>\n",
       "    </tr>\n",
       "    <tr>\n",
       "      <th>12748</th>\n",
       "      <td>0</td>\n",
       "      <td>178</td>\n",
       "      <td>31533.04</td>\n",
       "      <td>A</td>\n",
       "      <td>A</td>\n",
       "      <td>A</td>\n",
       "      <td>AAA</td>\n",
       "    </tr>\n",
       "    <tr>\n",
       "      <th>12749</th>\n",
       "      <td>3</td>\n",
       "      <td>5</td>\n",
       "      <td>4090.88</td>\n",
       "      <td>A</td>\n",
       "      <td>B</td>\n",
       "      <td>A</td>\n",
       "      <td>ABA</td>\n",
       "    </tr>\n",
       "    <tr>\n",
       "      <th>12820</th>\n",
       "      <td>3</td>\n",
       "      <td>4</td>\n",
       "      <td>942.34</td>\n",
       "      <td>A</td>\n",
       "      <td>B</td>\n",
       "      <td>B</td>\n",
       "      <td>ABB</td>\n",
       "    </tr>\n",
       "    <tr>\n",
       "      <th>12821</th>\n",
       "      <td>214</td>\n",
       "      <td>1</td>\n",
       "      <td>92.72</td>\n",
       "      <td>D</td>\n",
       "      <td>D</td>\n",
       "      <td>D</td>\n",
       "      <td>DDD</td>\n",
       "    </tr>\n",
       "  </tbody>\n",
       "</table>\n",
       "</div>"
      ],
      "text/plain": [
       "            Recencia  Frequencia     Valor R_quartil F_quartil V_quartil  \\\n",
       "ID_cliente                                                                 \n",
       "12747              2          11   4196.01         A         A         A   \n",
       "12748              0         178  31533.04         A         A         A   \n",
       "12749              3           5   4090.88         A         B         A   \n",
       "12820              3           4    942.34         A         B         B   \n",
       "12821            214           1     92.72         D         D         D   \n",
       "\n",
       "           RFV_Score  \n",
       "ID_cliente            \n",
       "12747            AAA  \n",
       "12748            AAA  \n",
       "12749            ABA  \n",
       "12820            ABB  \n",
       "12821            DDD  "
      ]
     },
     "execution_count": 240,
     "metadata": {},
     "output_type": "execute_result"
    }
   ],
   "source": [
    "df_RFV['RFV_Score'] = (df_RFV.R_quartil + df_RFV.F_quartil +\n",
    "                       df_RFV.V_quartil)\n",
    "df_RFV.head()"
   ]
  },
  {
   "cell_type": "code",
   "execution_count": 242,
   "id": "dda59747-aa48-44d3-addd-4a34c9b21f3e",
   "metadata": {},
   "outputs": [
    {
     "data": {
      "text/plain": [
       "RFV_Score\n",
       "AAA    417\n",
       "DDD    402\n",
       "DDC    212\n",
       "BBB    187\n",
       "CDD    186\n",
       "BAA    166\n",
       "ABB    153\n",
       "CDC    140\n",
       "BDD    139\n",
       "CBB    133\n",
       "CBA     96\n",
       "ABA     87\n",
       "DCC     87\n",
       "BDC     85\n",
       "CCB     83\n",
       "BBA     81\n",
       "BCC     79\n",
       "CCC     79\n",
       "ACC     65\n",
       "BCB     65\n",
       "CAA     63\n",
       "CBC     60\n",
       "DCB     57\n",
       "DCD     54\n",
       "ADD     53\n",
       "BBC     53\n",
       "AAB     47\n",
       "ACB     46\n",
       "CDB     43\n",
       "BCD     43\n",
       "ABC     42\n",
       "DBB     41\n",
       "DBC     37\n",
       "DDB     36\n",
       "CCD     35\n",
       "BAB     35\n",
       "ADC     32\n",
       "ACD     32\n",
       "CAB     23\n",
       "BDB     20\n",
       "DAA     14\n",
       "DBA     13\n",
       "BCA     11\n",
       "CCA     10\n",
       "CBD     10\n",
       "DBD      9\n",
       "ABD      7\n",
       "DCA      6\n",
       "CDA      6\n",
       "BBD      5\n",
       "DDA      3\n",
       "ADB      3\n",
       "DAB      3\n",
       "AAC      3\n",
       "ACA      2\n",
       "BDA      1\n",
       "CAC      1\n",
       "AAD      1\n",
       "Name: count, dtype: int64"
      ]
     },
     "execution_count": 242,
     "metadata": {},
     "output_type": "execute_result"
    }
   ],
   "source": [
    "df_RFV['RFV_Score'].value_counts()"
   ]
  },
  {
   "cell_type": "code",
   "execution_count": 244,
   "id": "d369ce50-4a6a-4581-a67a-7f50a117a6a5",
   "metadata": {},
   "outputs": [
    {
     "data": {
      "text/html": [
       "<div>\n",
       "<style scoped>\n",
       "    .dataframe tbody tr th:only-of-type {\n",
       "        vertical-align: middle;\n",
       "    }\n",
       "\n",
       "    .dataframe tbody tr th {\n",
       "        vertical-align: top;\n",
       "    }\n",
       "\n",
       "    .dataframe thead th {\n",
       "        text-align: right;\n",
       "    }\n",
       "</style>\n",
       "<table border=\"1\" class=\"dataframe\">\n",
       "  <thead>\n",
       "    <tr style=\"text-align: right;\">\n",
       "      <th></th>\n",
       "      <th>Recencia</th>\n",
       "      <th>Frequencia</th>\n",
       "      <th>Valor</th>\n",
       "    </tr>\n",
       "  </thead>\n",
       "  <tbody>\n",
       "    <tr>\n",
       "      <th>0.25</th>\n",
       "      <td>17.0</td>\n",
       "      <td>1.0</td>\n",
       "      <td>299.705</td>\n",
       "    </tr>\n",
       "    <tr>\n",
       "      <th>0.50</th>\n",
       "      <td>50.0</td>\n",
       "      <td>2.0</td>\n",
       "      <td>643.555</td>\n",
       "    </tr>\n",
       "    <tr>\n",
       "      <th>0.75</th>\n",
       "      <td>143.0</td>\n",
       "      <td>5.0</td>\n",
       "      <td>1533.600</td>\n",
       "    </tr>\n",
       "  </tbody>\n",
       "</table>\n",
       "</div>"
      ],
      "text/plain": [
       "      Recencia  Frequencia     Valor\n",
       "0.25      17.0         1.0   299.705\n",
       "0.50      50.0         2.0   643.555\n",
       "0.75     143.0         5.0  1533.600"
      ]
     },
     "execution_count": 244,
     "metadata": {},
     "output_type": "execute_result"
    }
   ],
   "source": [
    "quartis"
   ]
  },
  {
   "cell_type": "code",
   "execution_count": 247,
   "id": "ff5eaae8-932f-4870-8b82-c0ef29d255c2",
   "metadata": {},
   "outputs": [
    {
     "data": {
      "text/html": [
       "<div>\n",
       "<style scoped>\n",
       "    .dataframe tbody tr th:only-of-type {\n",
       "        vertical-align: middle;\n",
       "    }\n",
       "\n",
       "    .dataframe tbody tr th {\n",
       "        vertical-align: top;\n",
       "    }\n",
       "\n",
       "    .dataframe thead th {\n",
       "        text-align: right;\n",
       "    }\n",
       "</style>\n",
       "<table border=\"1\" class=\"dataframe\">\n",
       "  <thead>\n",
       "    <tr style=\"text-align: right;\">\n",
       "      <th></th>\n",
       "      <th>Recencia</th>\n",
       "      <th>Frequencia</th>\n",
       "      <th>Valor</th>\n",
       "      <th>R_quartil</th>\n",
       "      <th>F_quartil</th>\n",
       "      <th>V_quartil</th>\n",
       "      <th>RFV_Score</th>\n",
       "    </tr>\n",
       "    <tr>\n",
       "      <th>ID_cliente</th>\n",
       "      <th></th>\n",
       "      <th></th>\n",
       "      <th></th>\n",
       "      <th></th>\n",
       "      <th></th>\n",
       "      <th></th>\n",
       "      <th></th>\n",
       "    </tr>\n",
       "  </thead>\n",
       "  <tbody>\n",
       "    <tr>\n",
       "      <th>15311</th>\n",
       "      <td>0</td>\n",
       "      <td>87</td>\n",
       "      <td>49024.04</td>\n",
       "      <td>A</td>\n",
       "      <td>A</td>\n",
       "      <td>A</td>\n",
       "      <td>AAA</td>\n",
       "    </tr>\n",
       "    <tr>\n",
       "      <th>13089</th>\n",
       "      <td>2</td>\n",
       "      <td>93</td>\n",
       "      <td>48391.47</td>\n",
       "      <td>A</td>\n",
       "      <td>A</td>\n",
       "      <td>A</td>\n",
       "      <td>AAA</td>\n",
       "    </tr>\n",
       "    <tr>\n",
       "      <th>17841</th>\n",
       "      <td>1</td>\n",
       "      <td>115</td>\n",
       "      <td>40940.46</td>\n",
       "      <td>A</td>\n",
       "      <td>A</td>\n",
       "      <td>A</td>\n",
       "      <td>AAA</td>\n",
       "    </tr>\n",
       "    <tr>\n",
       "      <th>13694</th>\n",
       "      <td>3</td>\n",
       "      <td>40</td>\n",
       "      <td>37030.67</td>\n",
       "      <td>A</td>\n",
       "      <td>A</td>\n",
       "      <td>A</td>\n",
       "      <td>AAA</td>\n",
       "    </tr>\n",
       "    <tr>\n",
       "      <th>16013</th>\n",
       "      <td>3</td>\n",
       "      <td>45</td>\n",
       "      <td>32734.40</td>\n",
       "      <td>A</td>\n",
       "      <td>A</td>\n",
       "      <td>A</td>\n",
       "      <td>AAA</td>\n",
       "    </tr>\n",
       "    <tr>\n",
       "      <th>12748</th>\n",
       "      <td>0</td>\n",
       "      <td>178</td>\n",
       "      <td>31533.04</td>\n",
       "      <td>A</td>\n",
       "      <td>A</td>\n",
       "      <td>A</td>\n",
       "      <td>AAA</td>\n",
       "    </tr>\n",
       "    <tr>\n",
       "      <th>13798</th>\n",
       "      <td>1</td>\n",
       "      <td>55</td>\n",
       "      <td>31015.77</td>\n",
       "      <td>A</td>\n",
       "      <td>A</td>\n",
       "      <td>A</td>\n",
       "      <td>AAA</td>\n",
       "    </tr>\n",
       "    <tr>\n",
       "      <th>16422</th>\n",
       "      <td>17</td>\n",
       "      <td>49</td>\n",
       "      <td>30033.40</td>\n",
       "      <td>A</td>\n",
       "      <td>A</td>\n",
       "      <td>A</td>\n",
       "      <td>AAA</td>\n",
       "    </tr>\n",
       "    <tr>\n",
       "      <th>13408</th>\n",
       "      <td>1</td>\n",
       "      <td>62</td>\n",
       "      <td>28117.04</td>\n",
       "      <td>A</td>\n",
       "      <td>A</td>\n",
       "      <td>A</td>\n",
       "      <td>AAA</td>\n",
       "    </tr>\n",
       "    <tr>\n",
       "      <th>17949</th>\n",
       "      <td>1</td>\n",
       "      <td>39</td>\n",
       "      <td>25524.39</td>\n",
       "      <td>A</td>\n",
       "      <td>A</td>\n",
       "      <td>A</td>\n",
       "      <td>AAA</td>\n",
       "    </tr>\n",
       "  </tbody>\n",
       "</table>\n",
       "</div>"
      ],
      "text/plain": [
       "            Recencia  Frequencia     Valor R_quartil F_quartil V_quartil  \\\n",
       "ID_cliente                                                                 \n",
       "15311              0          87  49024.04         A         A         A   \n",
       "13089              2          93  48391.47         A         A         A   \n",
       "17841              1         115  40940.46         A         A         A   \n",
       "13694              3          40  37030.67         A         A         A   \n",
       "16013              3          45  32734.40         A         A         A   \n",
       "12748              0         178  31533.04         A         A         A   \n",
       "13798              1          55  31015.77         A         A         A   \n",
       "16422             17          49  30033.40         A         A         A   \n",
       "13408              1          62  28117.04         A         A         A   \n",
       "17949              1          39  25524.39         A         A         A   \n",
       "\n",
       "           RFV_Score  \n",
       "ID_cliente            \n",
       "15311            AAA  \n",
       "13089            AAA  \n",
       "17841            AAA  \n",
       "13694            AAA  \n",
       "16013            AAA  \n",
       "12748            AAA  \n",
       "13798            AAA  \n",
       "16422            AAA  \n",
       "13408            AAA  \n",
       "17949            AAA  "
      ]
     },
     "execution_count": 247,
     "metadata": {},
     "output_type": "execute_result"
    }
   ],
   "source": [
    "df_RFV[df_RFV['RFV_Score'] == 'AAA'].sort_values('Valor',\n",
    "                                                 ascending=False).head(10)"
   ]
  },
  {
   "cell_type": "markdown",
   "id": "b2c8ad56-d6f4-462a-b64c-6ae94c137b0c",
   "metadata": {},
   "source": [
    "## Ações de Marketing/CRM"
   ]
  },
  {
   "cell_type": "code",
   "execution_count": 250,
   "id": "d035bccd-5cfb-4d51-89da-6391427ce792",
   "metadata": {},
   "outputs": [],
   "source": [
    "dict_acoes = {\n",
    "    'AAA':\n",
    "    'Enviar cupons de desconto, Pedir para indicar nosso produto pra algum amigo, Ao lançar um novo produto enviar amostras grátis pra esses.',\n",
    "    'DDD':\n",
    "    'Churn! clientes que gastaram bem pouco e fizeram poucas compras, fazer nada',\n",
    "    'DAA':\n",
    "    'Churn! clientes que gastaram bastante e fizeram muitas compras, enviar cupons de desconto para tentar recuperar',\n",
    "    'CAA':\n",
    "    'Churn! clientes que gastaram bastante e fizeram muitas compras, enviar cupons de desconto para tentar recuperar'\n",
    "}"
   ]
  },
  {
   "cell_type": "code",
   "execution_count": 252,
   "id": "0f387a3d-136f-4b80-b468-433e38948162",
   "metadata": {},
   "outputs": [],
   "source": [
    "df_RFV['acoes de marketing/crm'] = df_RFV['RFV_Score'].map(dict_acoes)"
   ]
  },
  {
   "cell_type": "code",
   "execution_count": 258,
   "id": "9805041d-a30e-41e9-8904-411ea3710f74",
   "metadata": {},
   "outputs": [
    {
     "data": {
      "text/html": [
       "<div>\n",
       "<style scoped>\n",
       "    .dataframe tbody tr th:only-of-type {\n",
       "        vertical-align: middle;\n",
       "    }\n",
       "\n",
       "    .dataframe tbody tr th {\n",
       "        vertical-align: top;\n",
       "    }\n",
       "\n",
       "    .dataframe thead th {\n",
       "        text-align: right;\n",
       "    }\n",
       "</style>\n",
       "<table border=\"1\" class=\"dataframe\">\n",
       "  <thead>\n",
       "    <tr style=\"text-align: right;\">\n",
       "      <th></th>\n",
       "      <th>Recencia</th>\n",
       "      <th>Frequencia</th>\n",
       "      <th>Valor</th>\n",
       "      <th>R_quartil</th>\n",
       "      <th>F_quartil</th>\n",
       "      <th>V_quartil</th>\n",
       "      <th>RFV_Score</th>\n",
       "      <th>acoes de marketing/crm</th>\n",
       "    </tr>\n",
       "    <tr>\n",
       "      <th>ID_cliente</th>\n",
       "      <th></th>\n",
       "      <th></th>\n",
       "      <th></th>\n",
       "      <th></th>\n",
       "      <th></th>\n",
       "      <th></th>\n",
       "      <th></th>\n",
       "      <th></th>\n",
       "    </tr>\n",
       "  </thead>\n",
       "  <tbody>\n",
       "    <tr>\n",
       "      <th>12747</th>\n",
       "      <td>2</td>\n",
       "      <td>11</td>\n",
       "      <td>4196.01</td>\n",
       "      <td>A</td>\n",
       "      <td>A</td>\n",
       "      <td>A</td>\n",
       "      <td>AAA</td>\n",
       "      <td>Enviar cupons de desconto, Pedir para indicar ...</td>\n",
       "    </tr>\n",
       "    <tr>\n",
       "      <th>12748</th>\n",
       "      <td>0</td>\n",
       "      <td>178</td>\n",
       "      <td>31533.04</td>\n",
       "      <td>A</td>\n",
       "      <td>A</td>\n",
       "      <td>A</td>\n",
       "      <td>AAA</td>\n",
       "      <td>Enviar cupons de desconto, Pedir para indicar ...</td>\n",
       "    </tr>\n",
       "    <tr>\n",
       "      <th>12749</th>\n",
       "      <td>3</td>\n",
       "      <td>5</td>\n",
       "      <td>4090.88</td>\n",
       "      <td>A</td>\n",
       "      <td>B</td>\n",
       "      <td>A</td>\n",
       "      <td>ABA</td>\n",
       "      <td>NaN</td>\n",
       "    </tr>\n",
       "    <tr>\n",
       "      <th>12820</th>\n",
       "      <td>3</td>\n",
       "      <td>4</td>\n",
       "      <td>942.34</td>\n",
       "      <td>A</td>\n",
       "      <td>B</td>\n",
       "      <td>B</td>\n",
       "      <td>ABB</td>\n",
       "      <td>NaN</td>\n",
       "    </tr>\n",
       "    <tr>\n",
       "      <th>12821</th>\n",
       "      <td>214</td>\n",
       "      <td>1</td>\n",
       "      <td>92.72</td>\n",
       "      <td>D</td>\n",
       "      <td>D</td>\n",
       "      <td>D</td>\n",
       "      <td>DDD</td>\n",
       "      <td>Churn! clientes que gastaram bem pouco e fizer...</td>\n",
       "    </tr>\n",
       "  </tbody>\n",
       "</table>\n",
       "</div>"
      ],
      "text/plain": [
       "            Recencia  Frequencia     Valor R_quartil F_quartil V_quartil  \\\n",
       "ID_cliente                                                                 \n",
       "12747              2          11   4196.01         A         A         A   \n",
       "12748              0         178  31533.04         A         A         A   \n",
       "12749              3           5   4090.88         A         B         A   \n",
       "12820              3           4    942.34         A         B         B   \n",
       "12821            214           1     92.72         D         D         D   \n",
       "\n",
       "           RFV_Score                             acoes de marketing/crm  \n",
       "ID_cliente                                                               \n",
       "12747            AAA  Enviar cupons de desconto, Pedir para indicar ...  \n",
       "12748            AAA  Enviar cupons de desconto, Pedir para indicar ...  \n",
       "12749            ABA                                                NaN  \n",
       "12820            ABB                                                NaN  \n",
       "12821            DDD  Churn! clientes que gastaram bem pouco e fizer...  "
      ]
     },
     "execution_count": 258,
     "metadata": {},
     "output_type": "execute_result"
    }
   ],
   "source": [
    "df_RFV.head()"
   ]
  },
  {
   "cell_type": "markdown",
   "id": "58e95072-0191-4f5c-a123-f34d41125175",
   "metadata": {},
   "source": [
    "## Salvando o DataFrame"
   ]
  },
  {
   "cell_type": "code",
   "execution_count": 262,
   "id": "1d6f4bcc-099b-40e7-a0ea-327f9e3f6ff4",
   "metadata": {},
   "outputs": [],
   "source": [
    "df_RFV.to_excel('RFV.xlsx')"
   ]
  }
 ],
 "metadata": {
  "kernelspec": {
   "display_name": "Python 3 (ipykernel)",
   "language": "python",
   "name": "python3"
  },
  "language_info": {
   "codemirror_mode": {
    "name": "ipython",
    "version": 3
   },
   "file_extension": ".py",
   "mimetype": "text/x-python",
   "name": "python",
   "nbconvert_exporter": "python",
   "pygments_lexer": "ipython3",
   "version": "3.12.7"
  }
 },
 "nbformat": 4,
 "nbformat_minor": 5
}
